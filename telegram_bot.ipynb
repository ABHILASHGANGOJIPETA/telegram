{
  "nbformat": 4,
  "nbformat_minor": 0,
  "metadata": {
    "colab": {
      "provenance": [],
      "authorship_tag": "ABX9TyNLQw/N46XDTRExLa1FhleB",
      "include_colab_link": true
    },
    "kernelspec": {
      "name": "python3",
      "display_name": "Python 3"
    },
    "language_info": {
      "name": "python"
    }
  },
  "cells": [
    {
      "cell_type": "markdown",
      "metadata": {
        "id": "view-in-github",
        "colab_type": "text"
      },
      "source": [
        "<a href=\"https://colab.research.google.com/github/ABHILASHGANGOJIPETA/telegram/blob/main/telegram_bot.ipynb\" target=\"_parent\"><img src=\"https://colab.research.google.com/assets/colab-badge.svg\" alt=\"Open In Colab\"/></a>"
      ]
    },
    {
      "cell_type": "code",
      "source": [
        "import requests\n",
        "base_url = \"https://api.telegram.org/bot8172219707:AAGEKkpWyoRtgvtfhsOK5T5GG3bkRwA7rqc/getupdates\"\n",
        "\n",
        "parameters = {\n",
        "  \"offset\" : \"939543368\",\n",
        "\n",
        "}\n",
        "resp = requests.get(base_url, data = parameters)\n",
        "print(resp.text)"
      ],
      "metadata": {
        "colab": {
          "base_uri": "https://localhost:8080/"
        },
        "id": "mfbJT2bxNBGQ",
        "outputId": "91aea9b5-b25a-42fd-ccdf-0e6cb8e1b90b"
      },
      "execution_count": null,
      "outputs": [
        {
          "output_type": "stream",
          "name": "stdout",
          "text": [
            "{\"ok\":true,\"result\":[{\"update_id\":939543368,\n",
            "\"message\":{\"message_id\":9,\"from\":{\"id\":1670299948,\"is_bot\":false,\"first_name\":\"Abhilash.G\",\"username\":\"Im_Abhi_1753\"},\"chat\":{\"id\":-4682752892,\"title\":\"telegram_bot\",\"type\":\"group\",\"all_members_are_administrators\":true},\"date\":1737871209,\"text\":\"one\"}},{\"update_id\":939543369,\n",
            "\"message\":{\"message_id\":10,\"from\":{\"id\":1670299948,\"is_bot\":false,\"first_name\":\"Abhilash.G\",\"username\":\"Im_Abhi_1753\"},\"chat\":{\"id\":-4682752892,\"title\":\"telegram_bot\",\"type\":\"group\",\"all_members_are_administrators\":true},\"date\":1737871212,\"text\":\"two\"}},{\"update_id\":939543370,\n",
            "\"message\":{\"message_id\":11,\"from\":{\"id\":1670299948,\"is_bot\":false,\"first_name\":\"Abhilash.G\",\"username\":\"Im_Abhi_1753\"},\"chat\":{\"id\":-4682752892,\"title\":\"telegram_bot\",\"type\":\"group\",\"all_members_are_administrators\":true},\"date\":1737871214,\"text\":\"three\"}},{\"update_id\":939543371,\n",
            "\"message\":{\"message_id\":21,\"from\":{\"id\":1670299948,\"is_bot\":false,\"first_name\":\"Abhilash.G\",\"username\":\"Im_Abhi_1753\"},\"chat\":{\"id\":-4682752892,\"title\":\"telegram_bot\",\"type\":\"group\",\"all_members_are_administrators\":true},\"date\":1737888426,\"text\":\"hello from bot\"}},{\"update_id\":939543372,\n",
            "\"message\":{\"message_id\":22,\"from\":{\"id\":1670299948,\"is_bot\":false,\"first_name\":\"Abhilash.G\",\"username\":\"Im_Abhi_1753\"},\"chat\":{\"id\":-4682752892,\"title\":\"telegram_bot\",\"type\":\"group\",\"all_members_are_administrators\":true},\"date\":1737888435,\"text\":\"hi\"}}]}\n"
          ]
        }
      ]
    },
    {
      "cell_type": "code",
      "source": [
        "import requests\n",
        "\n",
        "base_url = \"https://api.telegram.org/bot8172219707:AAGEKkpWyoRtgvtfhsOK5T5GG3bkRwA7rqc/sendMessage\"\n",
        "\n",
        "\n",
        "parameters = {\n",
        "    \"chat_id\" : \"-4682752892\",\n",
        "    \"text\" : 'Hello World From Abhilah'\n",
        "}\n",
        "resp = requests.get(base_url, data = parameters)\n",
        "print(resp.text)"
      ],
      "metadata": {
        "colab": {
          "base_uri": "https://localhost:8080/"
        },
        "id": "dBwntBt5PUqC",
        "outputId": "5b55ecb8-2909-4907-c9f7-c580a3445e4b"
      },
      "execution_count": 2,
      "outputs": [
        {
          "output_type": "stream",
          "name": "stdout",
          "text": [
            "{\"ok\":true,\"result\":{\"message_id\":110,\"from\":{\"id\":8172219707,\"is_bot\":true,\"first_name\":\"Telegram_Bot's\",\"username\":\"hello_01_bot\"},\"chat\":{\"id\":-4682752892,\"title\":\"telegram_bot\",\"type\":\"group\",\"all_members_are_administrators\":true},\"date\":1737953820,\"text\":\"Hello World From Abhilah\"}}\n"
          ]
        }
      ]
    },
    {
      "cell_type": "code",
      "source": [
        "import requests\n",
        "import time\n",
        "\n",
        "base_url = \"https://api.telegram.org/bot8172219707:AAGEKkpWyoRtgvtfhsOK5T5GG3bkRwA7rqc/sendPhoto\"\n",
        "\n",
        "parameters = {\n",
        "    \"chat_id\" : \"-4682752892\",\n",
        "    \"photo\" : \"https://unsplash.com/photos/brown-wooden-boat-moving-towards-the-mountain-O453M2Liufs\",\n",
        "    \"caption\" : \"here is  travel photo for you\"\n",
        "}\n",
        "resp = requests.get(base_url, data = parameters)\n",
        "print(resp.text)"
      ],
      "metadata": {
        "colab": {
          "base_uri": "https://localhost:8080/"
        },
        "id": "LJOdMqCtTWSw",
        "outputId": "2e5d721e-59a8-41e6-c56f-ffb4b36147ae"
      },
      "execution_count": null,
      "outputs": [
        {
          "output_type": "stream",
          "name": "stdout",
          "text": [
            "{\"ok\":true,\"result\":{\"message_id\":15,\"from\":{\"id\":8172219707,\"is_bot\":true,\"first_name\":\"Telegram_Bot's\",\"username\":\"hello_01_bot\"},\"chat\":{\"id\":-4682752892,\"title\":\"telegram_bot\",\"type\":\"group\",\"all_members_are_administrators\":true},\"date\":1737873462,\"photo\":[{\"file_id\":\"AgACAgQAAxkDAAMOZ5XX1PuEmCFxipjUyeqURmI4gdkAAq-2MRsym7VQpA5kEb5Kg1EBAAMCAANzAAM2BA\",\"file_unique_id\":\"AQADr7YxGzKbtVB4\",\"file_size\":1220,\"width\":90,\"height\":47},{\"file_id\":\"AgACAgQAAxkDAAMOZ5XX1PuEmCFxipjUyeqURmI4gdkAAq-2MRsym7VQpA5kEb5Kg1EBAAMCAANtAAM2BA\",\"file_unique_id\":\"AQADr7YxGzKbtVBy\",\"file_size\":19933,\"width\":320,\"height\":168},{\"file_id\":\"AgACAgQAAxkDAAMOZ5XX1PuEmCFxipjUyeqURmI4gdkAAq-2MRsym7VQpA5kEb5Kg1EBAAMCAAN4AAM2BA\",\"file_unique_id\":\"AQADr7YxGzKbtVB9\",\"file_size\":104017,\"width\":800,\"height\":420},{\"file_id\":\"AgACAgQAAxkDAAMOZ5XX1PuEmCFxipjUyeqURmI4gdkAAq-2MRsym7VQpA5kEb5Kg1EBAAMCAAN5AAM2BA\",\"file_unique_id\":\"AQADr7YxGzKbtVB-\",\"file_size\":164934,\"width\":1200,\"height\":630}],\"caption\":\"here is  travel photo for you\"}}\n"
          ]
        }
      ]
    },
    {
      "cell_type": "code",
      "source": [
        "import requests\n",
        "import time\n",
        "\n",
        "base_url = \"https://api.telegram.org/bot8172219707:AAGEKkpWyoRtgvtfhsOK5T5GG3bkRwA7rqc/sendPhoto\"\n",
        "\n",
        "urls = [\n",
        "        \"https://unsplash.com/photos/airplane-on-sky-during-golden-hour-M0AWNxnLaMw\",\n",
        "        \"https://unsplash.com/photos/a-man-walking-down-a-walkway-with-a-suitcase-CSZNjQj59Co\",\n",
        "        \"https://unsplash.com/photos/yellow-volkswagen-van-on-road-A5rCN8626Ck\"\n",
        "]\n",
        "\n",
        "for url in urls:\n",
        "  time.sleep(10)\n",
        "  parameters = {\n",
        "      \"chat_id\" : \"-4682752892\",\n",
        "      \"photo\" : url,\n",
        "      \"caption\" : \"here is  travel photo for you\"\n",
        "  }\n",
        "resp = requests.get(base_url, data = parameters)\n",
        "print(resp.text)"
      ],
      "metadata": {
        "colab": {
          "base_uri": "https://localhost:8080/"
        },
        "id": "kfwCnnMnVRkd",
        "outputId": "2ea68ab1-cb02-4ef2-979b-58c12316e1c3"
      },
      "execution_count": null,
      "outputs": [
        {
          "output_type": "stream",
          "name": "stdout",
          "text": [
            "{\"ok\":true,\"result\":{\"message_id\":18,\"from\":{\"id\":8172219707,\"is_bot\":true,\"first_name\":\"Telegram_Bot's\",\"username\":\"hello_01_bot\"},\"chat\":{\"id\":-4682752892,\"title\":\"telegram_bot\",\"type\":\"group\",\"all_members_are_administrators\":true},\"date\":1737874144,\"photo\":[{\"file_id\":\"AgACAgQAAxkDAAMQZ5XZ3Za5MmqqA2z-GBiCZMSY1DcAAlC2MRuX8bRQWj9SxG0k5I8BAAMCAANzAAM2BA\",\"file_unique_id\":\"AQADULYxG5fxtFB4\",\"file_size\":1341,\"width\":90,\"height\":47},{\"file_id\":\"AgACAgQAAxkDAAMQZ5XZ3Za5MmqqA2z-GBiCZMSY1DcAAlC2MRuX8bRQWj9SxG0k5I8BAAMCAANtAAM2BA\",\"file_unique_id\":\"AQADULYxG5fxtFBy\",\"file_size\":21438,\"width\":320,\"height\":168},{\"file_id\":\"AgACAgQAAxkDAAMQZ5XZ3Za5MmqqA2z-GBiCZMSY1DcAAlC2MRuX8bRQWj9SxG0k5I8BAAMCAAN4AAM2BA\",\"file_unique_id\":\"AQADULYxG5fxtFB9\",\"file_size\":118416,\"width\":800,\"height\":420},{\"file_id\":\"AgACAgQAAxkDAAMQZ5XZ3Za5MmqqA2z-GBiCZMSY1DcAAlC2MRuX8bRQWj9SxG0k5I8BAAMCAAN5AAM2BA\",\"file_unique_id\":\"AQADULYxG5fxtFB-\",\"file_size\":191284,\"width\":1200,\"height\":630}],\"caption\":\"here is  travel photo for you\"}}\n"
          ]
        }
      ]
    },
    {
      "cell_type": "code",
      "source": [
        "import requests\n",
        "import time\n",
        "\n",
        "base_url = \"https://api.telegram.org/bot8172219707:AAGEKkpWyoRtgvtfhsOK5T5GG3bkRwA7rqc/sendAudio\"\n",
        "\n",
        "parameters = {\n",
        "    \"chat_id\" : \"-4682752892\",\n",
        "    \"audio\" : \"https://www.bensound.com/bensound-music/bensound-ukulele.mp3\",\n",
        "    \"caption\" : \"here is an audio file for you\"\n",
        "}\n",
        "resp = requests.get(base_url, data = parameters)\n",
        "print(resp.text)"
      ],
      "metadata": {
        "colab": {
          "base_uri": "https://localhost:8080/"
        },
        "id": "UzxJB1O0X86U",
        "outputId": "b47e4ac0-eb8d-4d51-871b-b3ffa027d6dd"
      },
      "execution_count": null,
      "outputs": [
        {
          "output_type": "stream",
          "name": "stdout",
          "text": [
            "{\"ok\":true,\"result\":{\"message_id\":19,\"from\":{\"id\":8172219707,\"is_bot\":true,\"first_name\":\"Telegram_Bot's\",\"username\":\"hello_01_bot\"},\"chat\":{\"id\":-4682752892,\"title\":\"telegram_bot\",\"type\":\"group\",\"all_members_are_administrators\":true},\"date\":1737874750,\"audio\":{\"duration\":146,\"file_name\":\"bensound-ukulele.mp3\",\"mime_type\":\"audio/mpeg\",\"file_id\":\"CQACAgQAAxkDAAMTZ5XdPuSNsVvgjpTWvhDlert9RYMAAq0HAQAB5xxkB9g0gT7DknUwNgQ\",\"file_unique_id\":\"AgADrQcBAAHnHGQH\",\"file_size\":2050193},\"caption\":\"here is an audio file for you\"}}\n"
          ]
        }
      ]
    },
    {
      "cell_type": "code",
      "source": [
        "import requests\n",
        "import time\n",
        "\n",
        "base_url = \"https://api.telegram.org/bot8172219707:AAGEKkpWyoRtgvtfhsOK5T5GG3bkRwA7rqc/sendDocument\"\n",
        "\n",
        "my_file = open(\"/content/sample_data/mnist_train_small.csv\", \"rb\")\n",
        "\n",
        "parameters = {\n",
        "    \"chat_id\" : \"-4682752892\",\n",
        "    \"caption\" : \"here is another document for you\"\n",
        "}\n",
        "\n",
        "files = {\n",
        "    \"document\" : my_file\n",
        "}\n",
        "resp = requests.get(base_url, data = parameters, files=files)\n",
        "print(resp.text)"
      ],
      "metadata": {
        "colab": {
          "base_uri": "https://localhost:8080/"
        },
        "id": "dx927DIoc91R",
        "outputId": "885a8b2b-29be-4c9b-f03c-23174b81a848"
      },
      "execution_count": null,
      "outputs": [
        {
          "output_type": "stream",
          "name": "stdout",
          "text": [
            "{\"ok\":true,\"result\":{\"message_id\":20,\"from\":{\"id\":8172219707,\"is_bot\":true,\"first_name\":\"Telegram_Bot's\",\"username\":\"hello_01_bot\"},\"chat\":{\"id\":-4682752892,\"title\":\"telegram_bot\",\"type\":\"group\",\"all_members_are_administrators\":true},\"date\":1737876590,\"document\":{\"file_name\":\"mnist_train_small.csv\",\"mime_type\":\"text/csv\",\"file_id\":\"BQACAgUAAxkDAAMUZ5XkbiFsIpCQ9wMdzeTJyvqdvZ8AApIUAALSCrBUl5lp-4nKiI02BA\",\"file_unique_id\":\"AgADkhQAAtIKsFQ\",\"file_size\":36523880},\"caption\":\"here is another document for you\"}}\n"
          ]
        }
      ]
    },
    {
      "cell_type": "code",
      "source": [
        "import requests\n",
        "base_url = \"https://api.telegram.org/bot8172219707:AAGEKkpWyoRtgvtfhsOK5T5GG3bkRwA7rqc\"\n",
        "\n",
        "def read_msg():\n",
        "\n",
        "  parameters = {\n",
        "    \"offset\" : \"939543368\",\n",
        "\n",
        "  }\n",
        "\n",
        "  resp = requests.get(base_url + \"/getUpdates\", data = parameters)\n",
        "  data = resp.json()\n",
        "\n",
        "  for result in data[\"result\"]:\n",
        "    if \"hi\" in result[\"message\"][\"text\"]:\n",
        "      send_msg()\n",
        "\n",
        "\n",
        "\n",
        "def send_msg():\n",
        "    parameters = {\n",
        "      \"chat_id\" : \"-4682752892\",\n",
        "      \"text\" : \"Hello !!!\"\n",
        "    }\n",
        "\n",
        "    resp = requests.get(base_url + \"/sendMessage\", data = parameters)\n",
        "    print(resp.text)\n",
        "\n",
        "\n",
        "read_msg()"
      ],
      "metadata": {
        "id": "c2aPW0XufqVW"
      },
      "execution_count": null,
      "outputs": []
    },
    {
      "cell_type": "code",
      "source": [
        "import requests\n",
        "import pandas as pd\n",
        "\n",
        "url = 'https://raw.githubusercontent.com/ABHILASHGANGOJIPETA/telegram/refs/heads/main/qna_chitchat_professional.tsv'\n",
        "\n",
        "df = pd.read_csv(url, sep=\"\\t\")\n",
        "\n",
        "base_url = \"https://api.telegram.org/bot8172219707:AAGEKkpWyoRtgvtfhsOK5T5GG3bkRwA7rqc\"\n",
        "\n",
        "def read_msg(offset):\n",
        "\n",
        "  parameters = {\n",
        "    \"offset\" : offset\n",
        "\n",
        "  }\n",
        "\n",
        "  resp = requests.get(base_url + \"/getUpdates\", data = parameters)\n",
        "  data = resp.json()\n",
        "\n",
        "  print(data)\n",
        "\n",
        "  for result in data[\"result\"]:\n",
        "      send_msg(result)\n",
        "\n",
        "  if data [\"result\"]:\n",
        "    return data[\"result\"][-1][\"update_id\"] + 1\n",
        "\n",
        "\n",
        "def auto_answer(message):\n",
        "  answer = df.loc[df['Question'].str.lower() == message.lower()]\n",
        "\n",
        "  if not answer.empty:\n",
        "      answer = answer.iloc[0]['Answer']\n",
        "      return answer\n",
        "  else:\n",
        "      return \"Sorry, I could not understand you !!! I am still learning and try to get better in answering.\"\n",
        "\n",
        "\n",
        "def send_msg(message):\n",
        "  text = message[\"message\"][\"text\"]\n",
        "  message_id = message[\"message\"][\"message_id\"]\n",
        "  answer = auto_answer(text)\n",
        "\n",
        "  parameters = {\n",
        "      \"chat_id\" : \"-4682752892\",\n",
        "      \"text\" : answer,\n",
        "      \"reply_to_message_id\" : message_id\n",
        "  }\n",
        "\n",
        "  resp = requests.get(base_url + \"/sendMessage\", data = parameters)\n",
        "  print(resp.text)\n",
        "\n",
        "offset = 0\n",
        "\n",
        "while True:\n",
        "  offset = read_msg(offset)\n"
      ],
      "metadata": {
        "colab": {
          "base_uri": "https://localhost:8080/"
        },
        "id": "stsu28YcYi2w",
        "outputId": "daba5ba4-425d-444e-d57b-91117190b508"
      },
      "execution_count": null,
      "outputs": [
        {
          "output_type": "stream",
          "name": "stdout",
          "text": [
            "{'ok': True, 'result': [{'update_id': 939543416, 'message': {'message_id': 111, 'from': {'id': 1670299948, 'is_bot': False, 'first_name': 'Abhilash.G', 'username': 'Im_Abhi_1753'}, 'chat': {'id': -4682752892, 'title': 'telegram_bot', 'type': 'group', 'all_members_are_administrators': True}, 'date': 1737955249, 'text': 'hi'}}, {'update_id': 939543417, 'message': {'message_id': 112, 'from': {'id': 1670299948, 'is_bot': False, 'first_name': 'Abhilash.G', 'username': 'Im_Abhi_1753'}, 'chat': {'id': -4682752892, 'title': 'telegram_bot', 'type': 'group', 'all_members_are_administrators': True}, 'date': 1737955325, 'text': 'hi'}}, {'update_id': 939543418, 'message': {'message_id': 113, 'from': {'id': 1670299948, 'is_bot': False, 'first_name': 'Abhilash.G', 'username': 'Im_Abhi_1753'}, 'chat': {'id': -4682752892, 'title': 'telegram_bot', 'type': 'group', 'all_members_are_administrators': True}, 'date': 1737955362, 'text': 'hi'}}]}\n",
            "{\"ok\":true,\"result\":{\"message_id\":114,\"from\":{\"id\":8172219707,\"is_bot\":true,\"first_name\":\"Telegram_Bot's\",\"username\":\"hello_01_bot\"},\"chat\":{\"id\":-4682752892,\"title\":\"telegram_bot\",\"type\":\"group\",\"all_members_are_administrators\":true},\"date\":1737957661,\"reply_to_message\":{\"message_id\":111,\"from\":{\"id\":1670299948,\"is_bot\":false,\"first_name\":\"Abhilash.G\",\"username\":\"Im_Abhi_1753\"},\"chat\":{\"id\":-4682752892,\"title\":\"telegram_bot\",\"type\":\"group\",\"all_members_are_administrators\":true},\"date\":1737955249,\"text\":\"hi\"},\"text\":\"Hello.\"}}\n",
            "{\"ok\":true,\"result\":{\"message_id\":115,\"from\":{\"id\":8172219707,\"is_bot\":true,\"first_name\":\"Telegram_Bot's\",\"username\":\"hello_01_bot\"},\"chat\":{\"id\":-4682752892,\"title\":\"telegram_bot\",\"type\":\"group\",\"all_members_are_administrators\":true},\"date\":1737957662,\"reply_to_message\":{\"message_id\":112,\"from\":{\"id\":1670299948,\"is_bot\":false,\"first_name\":\"Abhilash.G\",\"username\":\"Im_Abhi_1753\"},\"chat\":{\"id\":-4682752892,\"title\":\"telegram_bot\",\"type\":\"group\",\"all_members_are_administrators\":true},\"date\":1737955325,\"text\":\"hi\"},\"text\":\"Hello.\"}}\n",
            "{\"ok\":true,\"result\":{\"message_id\":116,\"from\":{\"id\":8172219707,\"is_bot\":true,\"first_name\":\"Telegram_Bot's\",\"username\":\"hello_01_bot\"},\"chat\":{\"id\":-4682752892,\"title\":\"telegram_bot\",\"type\":\"group\",\"all_members_are_administrators\":true},\"date\":1737957663,\"reply_to_message\":{\"message_id\":113,\"from\":{\"id\":1670299948,\"is_bot\":false,\"first_name\":\"Abhilash.G\",\"username\":\"Im_Abhi_1753\"},\"chat\":{\"id\":-4682752892,\"title\":\"telegram_bot\",\"type\":\"group\",\"all_members_are_administrators\":true},\"date\":1737955362,\"text\":\"hi\"},\"text\":\"Hello.\"}}\n",
            "{'ok': True, 'result': []}\n",
            "{'ok': True, 'result': []}\n",
            "{'ok': True, 'result': []}\n",
            "{'ok': True, 'result': []}\n",
            "{'ok': True, 'result': []}\n",
            "{'ok': True, 'result': []}\n",
            "{'ok': True, 'result': []}\n",
            "{'ok': True, 'result': []}\n",
            "{'ok': True, 'result': []}\n",
            "{'ok': True, 'result': []}\n",
            "{'ok': True, 'result': []}\n",
            "{'ok': True, 'result': []}\n",
            "{'ok': True, 'result': []}\n",
            "{'ok': True, 'result': []}\n",
            "{'ok': True, 'result': []}\n",
            "{'ok': True, 'result': []}\n",
            "{'ok': True, 'result': []}\n",
            "{'ok': True, 'result': []}\n"
          ]
        }
      ]
    }
  ]
}