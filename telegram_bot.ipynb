{
  "nbformat": 4,
  "nbformat_minor": 0,
  "metadata": {
    "colab": {
      "provenance": [],
      "authorship_tag": "ABX9TyNLQw/N46XDTRExLa1FhleB",
      "include_colab_link": true
    },
    "kernelspec": {
      "name": "python3",
      "display_name": "Python 3"
    },
    "language_info": {
      "name": "python"
    }
  },
  "cells": [
    {
      "cell_type": "markdown",
      "metadata": {
        "id": "view-in-github",
        "colab_type": "text"
      },
      "source": [
        "<a href=\"https://colab.research.google.com/github/ABHILASHGANGOJIPETA/telegram/blob/main/telegram_bot.ipynb\" target=\"_parent\"><img src=\"https://colab.research.google.com/assets/colab-badge.svg\" alt=\"Open In Colab\"/></a>"
      ]
    },
    {
      "cell_type": "code",
      "source": [
        "import requests\n",
        "base_url = \"https://api.telegram.org/bot8172219707:AAGEKkpWyoRtgvtfhsOK5T5GG3bkRwA7rqc/getupdates\"\n",
        "\n",
        "parameters = {\n",
        "  \"offset\" : \"939543368\",\n",
        "\n",
        "}\n",
        "resp = requests.get(base_url, data = parameters)\n",
        "print(resp.text)"
      ],
      "metadata": {
        "colab": {
          "base_uri": "https://localhost:8080/"
        },
        "id": "mfbJT2bxNBGQ",
        "outputId": "91aea9b5-b25a-42fd-ccdf-0e6cb8e1b90b"
      },
      "execution_count": null,
      "outputs": [
        {
          "output_type": "stream",
          "name": "stdout",
          "text": [
            "{\"ok\":true,\"result\":[{\"update_id\":939543368,\n",
            "\"message\":{\"message_id\":9,\"from\":{\"id\":1670299948,\"is_bot\":false,\"first_name\":\"Abhilash.G\",\"username\":\"Im_Abhi_1753\"},\"chat\":{\"id\":-4682752892,\"title\":\"telegram_bot\",\"type\":\"group\",\"all_members_are_administrators\":true},\"date\":1737871209,\"text\":\"one\"}},{\"update_id\":939543369,\n",
            "\"message\":{\"message_id\":10,\"from\":{\"id\":1670299948,\"is_bot\":false,\"first_name\":\"Abhilash.G\",\"username\":\"Im_Abhi_1753\"},\"chat\":{\"id\":-4682752892,\"title\":\"telegram_bot\",\"type\":\"group\",\"all_members_are_administrators\":true},\"date\":1737871212,\"text\":\"two\"}},{\"update_id\":939543370,\n",
            "\"message\":{\"message_id\":11,\"from\":{\"id\":1670299948,\"is_bot\":false,\"first_name\":\"Abhilash.G\",\"username\":\"Im_Abhi_1753\"},\"chat\":{\"id\":-4682752892,\"title\":\"telegram_bot\",\"type\":\"group\",\"all_members_are_administrators\":true},\"date\":1737871214,\"text\":\"three\"}},{\"update_id\":939543371,\n",
            "\"message\":{\"message_id\":21,\"from\":{\"id\":1670299948,\"is_bot\":false,\"first_name\":\"Abhilash.G\",\"username\":\"Im_Abhi_1753\"},\"chat\":{\"id\":-4682752892,\"title\":\"telegram_bot\",\"type\":\"group\",\"all_members_are_administrators\":true},\"date\":1737888426,\"text\":\"hello from bot\"}},{\"update_id\":939543372,\n",
            "\"message\":{\"message_id\":22,\"from\":{\"id\":1670299948,\"is_bot\":false,\"first_name\":\"Abhilash.G\",\"username\":\"Im_Abhi_1753\"},\"chat\":{\"id\":-4682752892,\"title\":\"telegram_bot\",\"type\":\"group\",\"all_members_are_administrators\":true},\"date\":1737888435,\"text\":\"hi\"}}]}\n"
          ]
        }
      ]
    },
    {
      "cell_type": "code",
      "source": [
        "import requests\n",
        "\n",
        "base_url = \"https://api.telegram.org/bot8172219707:AAGEKkpWyoRtgvtfhsOK5T5GG3bkRwA7rqc/sendMessage\"\n",
        "\n",
        "\n",
        "parameters = {\n",
        "    \"chat_id\" : \"-4682752892\",\n",
        "    \"text\" : 'Hello World From Abhilah'\n",
        "}\n",
        "resp = requests.get(base_url, data = parameters)\n",
        "print(resp.text)"
      ],
      "metadata": {
        "colab": {
          "base_uri": "https://localhost:8080/"
        },
        "id": "dBwntBt5PUqC",
        "outputId": "5b55ecb8-2909-4907-c9f7-c580a3445e4b"
      },
      "execution_count": 2,
      "outputs": [
        {
          "output_type": "stream",
          "name": "stdout",
          "text": [
            "{\"ok\":true,\"result\":{\"message_id\":110,\"from\":{\"id\":8172219707,\"is_bot\":true,\"first_name\":\"Telegram_Bot's\",\"username\":\"hello_01_bot\"},\"chat\":{\"id\":-4682752892,\"title\":\"telegram_bot\",\"type\":\"group\",\"all_members_are_administrators\":true},\"date\":1737953820,\"text\":\"Hello World From Abhilah\"}}\n"
          ]
        }
      ]
    },
    {
      "cell_type": "code",
      "source": [
        "import requests\n",
        "import time\n",
        "\n",
        "base_url = \"https://api.telegram.org/bot8172219707:AAGEKkpWyoRtgvtfhsOK5T5GG3bkRwA7rqc/sendPhoto\"\n",
        "\n",
        "parameters = {\n",
        "    \"chat_id\" : \"-4682752892\",\n",
        "    \"photo\" : \"https://unsplash.com/photos/brown-wooden-boat-moving-towards-the-mountain-O453M2Liufs\",\n",
        "    \"caption\" : \"here is  travel photo for you\"\n",
        "}\n",
        "resp = requests.get(base_url, data = parameters)\n",
        "print(resp.text)"
      ],
      "metadata": {
        "colab": {
          "base_uri": "https://localhost:8080/"
        },
        "id": "LJOdMqCtTWSw",
        "outputId": "2e5d721e-59a8-41e6-c56f-ffb4b36147ae"
      },
      "execution_count": null,
      "outputs": [
        {
          "output_type": "stream",
          "name": "stdout",
          "text": [
            "{\"ok\":true,\"result\":{\"message_id\":15,\"from\":{\"id\":8172219707,\"is_bot\":true,\"first_name\":\"Telegram_Bot's\",\"username\":\"hello_01_bot\"},\"chat\":{\"id\":-4682752892,\"title\":\"telegram_bot\",\"type\":\"group\",\"all_members_are_administrators\":true},\"date\":1737873462,\"photo\":[{\"file_id\":\"AgACAgQAAxkDAAMOZ5XX1PuEmCFxipjUyeqURmI4gdkAAq-2MRsym7VQpA5kEb5Kg1EBAAMCAANzAAM2BA\",\"file_unique_id\":\"AQADr7YxGzKbtVB4\",\"file_size\":1220,\"width\":90,\"height\":47},{\"file_id\":\"AgACAgQAAxkDAAMOZ5XX1PuEmCFxipjUyeqURmI4gdkAAq-2MRsym7VQpA5kEb5Kg1EBAAMCAANtAAM2BA\",\"file_unique_id\":\"AQADr7YxGzKbtVBy\",\"file_size\":19933,\"width\":320,\"height\":168},{\"file_id\":\"AgACAgQAAxkDAAMOZ5XX1PuEmCFxipjUyeqURmI4gdkAAq-2MRsym7VQpA5kEb5Kg1EBAAMCAAN4AAM2BA\",\"file_unique_id\":\"AQADr7YxGzKbtVB9\",\"file_size\":104017,\"width\":800,\"height\":420},{\"file_id\":\"AgACAgQAAxkDAAMOZ5XX1PuEmCFxipjUyeqURmI4gdkAAq-2MRsym7VQpA5kEb5Kg1EBAAMCAAN5AAM2BA\",\"file_unique_id\":\"AQADr7YxGzKbtVB-\",\"file_size\":164934,\"width\":1200,\"height\":630}],\"caption\":\"here is  travel photo for you\"}}\n"
          ]
        }
      ]
    },
    {
      "cell_type": "code",
      "source": [
        "import requests\n",
        "import time\n",
        "\n",
        "base_url = \"https://api.telegram.org/bot8172219707:AAGEKkpWyoRtgvtfhsOK5T5GG3bkRwA7rqc/sendPhoto\"\n",
        "\n",
        "urls = [\n",
        "        \"https://unsplash.com/photos/airplane-on-sky-during-golden-hour-M0AWNxnLaMw\",\n",
        "        \"https://unsplash.com/photos/a-man-walking-down-a-walkway-with-a-suitcase-CSZNjQj59Co\",\n",
        "        \"https://unsplash.com/photos/yellow-volkswagen-van-on-road-A5rCN8626Ck\"\n",
        "]\n",
        "\n",
        "for url in urls:\n",
        "  time.sleep(10)\n",
        "  parameters = {\n",
        "      \"chat_id\" : \"-4682752892\",\n",
        "      \"photo\" : url,\n",
        "      \"caption\" : \"here is  travel photo for you\"\n",
        "  }\n",
        "resp = requests.get(base_url, data = parameters)\n",
        "print(resp.text)"
      ],
      "metadata": {
        "colab": {
          "base_uri": "https://localhost:8080/"
        },
        "id": "kfwCnnMnVRkd",
        "outputId": "2ea68ab1-cb02-4ef2-979b-58c12316e1c3"
      },
      "execution_count": null,
      "outputs": [
        {
          "output_type": "stream",
          "name": "stdout",
          "text": [
            "{\"ok\":true,\"result\":{\"message_id\":18,\"from\":{\"id\":8172219707,\"is_bot\":true,\"first_name\":\"Telegram_Bot's\",\"username\":\"hello_01_bot\"},\"chat\":{\"id\":-4682752892,\"title\":\"telegram_bot\",\"type\":\"group\",\"all_members_are_administrators\":true},\"date\":1737874144,\"photo\":[{\"file_id\":\"AgACAgQAAxkDAAMQZ5XZ3Za5MmqqA2z-GBiCZMSY1DcAAlC2MRuX8bRQWj9SxG0k5I8BAAMCAANzAAM2BA\",\"file_unique_id\":\"AQADULYxG5fxtFB4\",\"file_size\":1341,\"width\":90,\"height\":47},{\"file_id\":\"AgACAgQAAxkDAAMQZ5XZ3Za5MmqqA2z-GBiCZMSY1DcAAlC2MRuX8bRQWj9SxG0k5I8BAAMCAANtAAM2BA\",\"file_unique_id\":\"AQADULYxG5fxtFBy\",\"file_size\":21438,\"width\":320,\"height\":168},{\"file_id\":\"AgACAgQAAxkDAAMQZ5XZ3Za5MmqqA2z-GBiCZMSY1DcAAlC2MRuX8bRQWj9SxG0k5I8BAAMCAAN4AAM2BA\",\"file_unique_id\":\"AQADULYxG5fxtFB9\",\"file_size\":118416,\"width\":800,\"height\":420},{\"file_id\":\"AgACAgQAAxkDAAMQZ5XZ3Za5MmqqA2z-GBiCZMSY1DcAAlC2MRuX8bRQWj9SxG0k5I8BAAMCAAN5AAM2BA\",\"file_unique_id\":\"AQADULYxG5fxtFB-\",\"file_size\":191284,\"width\":1200,\"height\":630}],\"caption\":\"here is  travel photo for you\"}}\n"
          ]
        }
      ]
    },
    {
      "cell_type": "code",
      "source": [
        "import requests\n",
        "import time\n",
        "\n",
        "base_url = \"https://api.telegram.org/bot8172219707:AAGEKkpWyoRtgvtfhsOK5T5GG3bkRwA7rqc/sendAudio\"\n",
        "\n",
        "parameters = {\n",
        "    \"chat_id\" : \"-4682752892\",\n",
        "    \"audio\" : \"https://www.bensound.com/bensound-music/bensound-ukulele.mp3\",\n",
        "    \"caption\" : \"here is an audio file for you\"\n",
        "}\n",
        "resp = requests.get(base_url, data = parameters)\n",
        "print(resp.text)"
      ],
      "metadata": {
        "colab": {
          "base_uri": "https://localhost:8080/"
        },
        "id": "UzxJB1O0X86U",
        "outputId": "b47e4ac0-eb8d-4d51-871b-b3ffa027d6dd"
      },
      "execution_count": null,
      "outputs": [
        {
          "output_type": "stream",
          "name": "stdout",
          "text": [
            "{\"ok\":true,\"result\":{\"message_id\":19,\"from\":{\"id\":8172219707,\"is_bot\":true,\"first_name\":\"Telegram_Bot's\",\"username\":\"hello_01_bot\"},\"chat\":{\"id\":-4682752892,\"title\":\"telegram_bot\",\"type\":\"group\",\"all_members_are_administrators\":true},\"date\":1737874750,\"audio\":{\"duration\":146,\"file_name\":\"bensound-ukulele.mp3\",\"mime_type\":\"audio/mpeg\",\"file_id\":\"CQACAgQAAxkDAAMTZ5XdPuSNsVvgjpTWvhDlert9RYMAAq0HAQAB5xxkB9g0gT7DknUwNgQ\",\"file_unique_id\":\"AgADrQcBAAHnHGQH\",\"file_size\":2050193},\"caption\":\"here is an audio file for you\"}}\n"
          ]
        }
      ]
    },
    {
      "cell_type": "code",
      "source": [
        "import requests\n",
        "import time\n",
        "\n",
        "base_url = \"https://api.telegram.org/bot8172219707:AAGEKkpWyoRtgvtfhsOK5T5GG3bkRwA7rqc/sendDocument\"\n",
        "\n",
        "my_file = open(\"/content/sample_data/mnist_train_small.csv\", \"rb\")\n",
        "\n",
        "parameters = {\n",
        "    \"chat_id\" : \"-4682752892\",\n",
        "    \"caption\" : \"here is another document for you\"\n",
        "}\n",
        "\n",
        "files = {\n",
        "    \"document\" : my_file\n",
        "}\n",
        "resp = requests.get(base_url, data = parameters, files=files)\n",
        "print(resp.text)"
      ],
      "metadata": {
        "colab": {
          "base_uri": "https://localhost:8080/"
        },
        "id": "dx927DIoc91R",
        "outputId": "885a8b2b-29be-4c9b-f03c-23174b81a848"
      },
      "execution_count": null,
      "outputs": [
        {
          "output_type": "stream",
          "name": "stdout",
          "text": [
            "{\"ok\":true,\"result\":{\"message_id\":20,\"from\":{\"id\":8172219707,\"is_bot\":true,\"first_name\":\"Telegram_Bot's\",\"username\":\"hello_01_bot\"},\"chat\":{\"id\":-4682752892,\"title\":\"telegram_bot\",\"type\":\"group\",\"all_members_are_administrators\":true},\"date\":1737876590,\"document\":{\"file_name\":\"mnist_train_small.csv\",\"mime_type\":\"text/csv\",\"file_id\":\"BQACAgUAAxkDAAMUZ5XkbiFsIpCQ9wMdzeTJyvqdvZ8AApIUAALSCrBUl5lp-4nKiI02BA\",\"file_unique_id\":\"AgADkhQAAtIKsFQ\",\"file_size\":36523880},\"caption\":\"here is another document for you\"}}\n"
          ]
        }
      ]
    },
    {
      "cell_type": "code",
      "source": [
        "import requests\n",
        "base_url = \"https://api.telegram.org/bot8172219707:AAGEKkpWyoRtgvtfhsOK5T5GG3bkRwA7rqc\"\n",
        "\n",
        "def read_msg():\n",
        "\n",
        "  parameters = {\n",
        "    \"offset\" : \"939543368\",\n",
        "\n",
        "  }\n",
        "\n",
        "  resp = requests.get(base_url + \"/getUpdates\", data = parameters)\n",
        "  data = resp.json()\n",
        "\n",
        "  for result in data[\"result\"]:\n",
        "    if \"hi\" in result[\"message\"][\"text\"]:\n",
        "      send_msg()\n",
        "\n",
        "\n",
        "\n",
        "def send_msg():\n",
        "    parameters = {\n",
        "      \"chat_id\" : \"-4682752892\",\n",
        "      \"text\" : \"Hello !!!\"\n",
        "    }\n",
        "\n",
        "    resp = requests.get(base_url + \"/sendMessage\", data = parameters)\n",
        "    print(resp.text)\n",
        "\n",
        "\n",
        "read_msg()"
      ],
      "metadata": {
        "id": "c2aPW0XufqVW"
      },
      "execution_count": null,
      "outputs": []
    },
    {
      "cell_type": "code",
      "source": [
        "import requests\n",
        "import pandas as pd\n",
        "\n",
        "url = 'https://raw.githubusercontent.com/ABHILASHGANGOJIPETA/telegram/refs/heads/main/qna_chitchat_professional.tsv'\n",
        "\n",
        "df = pd.read_csv(url, sep=\"\\t\")\n",
        "\n",
        "base_url = \"https://api.telegram.org/bot8172219707:AAGEKkpWyoRtgvtfhsOK5T5GG3bkRwA7rqc\"\n",
        "\n",
        "def read_msg(offset):\n",
        "\n",
        "  parameters = {\n",
        "    \"offset\" : offset\n",
        "\n",
        "  }\n",
        "\n",
        "  resp = requests.get(base_url + \"/getUpdates\", data = parameters)\n",
        "  data = resp.json()\n",
        "\n",
        "  print(data)\n",
        "\n",
        "  for result in data[\"result\"]:\n",
        "      send_msg(result)\n",
        "\n",
        "  if data [\"result\"]:\n",
        "    return data[\"result\"][-1][\"update_id\"] + 1\n",
        "\n",
        "\n",
        "def auto_answer(message):\n",
        "  answer = df.loc[df['Question'].str.lower() == message.lower()]\n",
        "\n",
        "  if not answer.empty:\n",
        "      answer = answer.iloc[0]['Answer']\n",
        "      return answer\n",
        "  else:\n",
        "      return \"Sorry, I could not understand you !!! I am still learning and try to get better in answering.\"\n",
        "\n",
        "\n",
        "def send_msg(message):\n",
        "  text = message[\"message\"][\"text\"]\n",
        "  message_id = message[\"message\"][\"message_id\"]\n",
        "  answer = auto_answer(text)\n",
        "\n",
        "  parameters = {\n",
        "      \"chat_id\" : \"-4682752892\",\n",
        "      \"text\" : answer,\n",
        "      \"reply_to_message_id\" : message_id\n",
        "  }\n",
        "\n",
        "  resp = requests.get(base_url + \"/sendMessage\", data = parameters)\n",
        "  print(resp.text)\n",
        "\n",
        "offset = 0\n",
        "\n",
        "while True:\n",
        "  offset = read_msg(offset)\n"
      ],
      "metadata": {
        "colab": {
          "base_uri": "https://localhost:8080/",
          "height": 624
        },
        "id": "stsu28YcYi2w",
        "outputId": "8247ef29-22f7-4b55-c517-67ab42b9d515"
      },
      "execution_count": 1,
      "outputs": [
        {
          "output_type": "stream",
          "name": "stdout",
          "text": [
            "{'ok': True, 'result': []}\n",
            "{'ok': True, 'result': []}\n",
            "{'ok': True, 'result': []}\n",
            "{'ok': True, 'result': [{'update_id': 939543414, 'message': {'message_id': 106, 'from': {'id': 1670299948, 'is_bot': False, 'first_name': 'Abhilash.G', 'username': 'Im_Abhi_1753'}, 'chat': {'id': -4682752892, 'title': 'telegram_bot', 'type': 'group', 'all_members_are_administrators': True}, 'date': 1737953771, 'text': 'hi'}}]}\n",
            "{\"ok\":true,\"result\":{\"message_id\":107,\"from\":{\"id\":8172219707,\"is_bot\":true,\"first_name\":\"Telegram_Bot's\",\"username\":\"hello_01_bot\"},\"chat\":{\"id\":-4682752892,\"title\":\"telegram_bot\",\"type\":\"group\",\"all_members_are_administrators\":true},\"date\":1737953772,\"reply_to_message\":{\"message_id\":106,\"from\":{\"id\":1670299948,\"is_bot\":false,\"first_name\":\"Abhilash.G\",\"username\":\"Im_Abhi_1753\"},\"chat\":{\"id\":-4682752892,\"title\":\"telegram_bot\",\"type\":\"group\",\"all_members_are_administrators\":true},\"date\":1737953771,\"text\":\"hi\"},\"text\":\"Hello.\"}}\n",
            "{'ok': True, 'result': []}\n",
            "{'ok': True, 'result': []}\n",
            "{'ok': True, 'result': []}\n",
            "{'ok': True, 'result': []}\n",
            "{'ok': True, 'result': [{'update_id': 939543415, 'message': {'message_id': 108, 'from': {'id': 1670299948, 'is_bot': False, 'first_name': 'Abhilash.G', 'username': 'Im_Abhi_1753'}, 'chat': {'id': -4682752892, 'title': 'telegram_bot', 'type': 'group', 'all_members_are_administrators': True}, 'date': 1737953777, 'text': 'thank you'}}]}\n",
            "{\"ok\":true,\"result\":{\"message_id\":109,\"from\":{\"id\":8172219707,\"is_bot\":true,\"first_name\":\"Telegram_Bot's\",\"username\":\"hello_01_bot\"},\"chat\":{\"id\":-4682752892,\"title\":\"telegram_bot\",\"type\":\"group\",\"all_members_are_administrators\":true},\"date\":1737953778,\"reply_to_message\":{\"message_id\":108,\"from\":{\"id\":1670299948,\"is_bot\":false,\"first_name\":\"Abhilash.G\",\"username\":\"Im_Abhi_1753\"},\"chat\":{\"id\":-4682752892,\"title\":\"telegram_bot\",\"type\":\"group\",\"all_members_are_administrators\":true},\"date\":1737953777,\"text\":\"thank you\"},\"text\":\"You're welcome.\"}}\n",
            "{'ok': True, 'result': []}\n",
            "{'ok': True, 'result': []}\n",
            "{'ok': True, 'result': []}\n",
            "{'ok': True, 'result': []}\n"
          ]
        },
        {
          "output_type": "error",
          "ename": "KeyboardInterrupt",
          "evalue": "",
          "traceback": [
            "\u001b[0;31m---------------------------------------------------------------------------\u001b[0m",
            "\u001b[0;31mKeyboardInterrupt\u001b[0m                         Traceback (most recent call last)",
            "\u001b[0;32m<ipython-input-1-f55688c5b6e8>\u001b[0m in \u001b[0;36m<cell line: 0>\u001b[0;34m()\u001b[0m\n\u001b[1;32m     54\u001b[0m \u001b[0;34m\u001b[0m\u001b[0m\n\u001b[1;32m     55\u001b[0m \u001b[0;32mwhile\u001b[0m \u001b[0;32mTrue\u001b[0m\u001b[0;34m:\u001b[0m\u001b[0;34m\u001b[0m\u001b[0;34m\u001b[0m\u001b[0m\n\u001b[0;32m---> 56\u001b[0;31m   \u001b[0moffset\u001b[0m \u001b[0;34m=\u001b[0m \u001b[0mread_msg\u001b[0m\u001b[0;34m(\u001b[0m\u001b[0moffset\u001b[0m\u001b[0;34m)\u001b[0m\u001b[0;34m\u001b[0m\u001b[0;34m\u001b[0m\u001b[0m\n\u001b[0m",
            "\u001b[0;32m<ipython-input-1-f55688c5b6e8>\u001b[0m in \u001b[0;36mread_msg\u001b[0;34m(offset)\u001b[0m\n\u001b[1;32m     15\u001b[0m   }\n\u001b[1;32m     16\u001b[0m \u001b[0;34m\u001b[0m\u001b[0m\n\u001b[0;32m---> 17\u001b[0;31m   \u001b[0mresp\u001b[0m \u001b[0;34m=\u001b[0m \u001b[0mrequests\u001b[0m\u001b[0;34m.\u001b[0m\u001b[0mget\u001b[0m\u001b[0;34m(\u001b[0m\u001b[0mbase_url\u001b[0m \u001b[0;34m+\u001b[0m \u001b[0;34m\"/getUpdates\"\u001b[0m\u001b[0;34m,\u001b[0m \u001b[0mdata\u001b[0m \u001b[0;34m=\u001b[0m \u001b[0mparameters\u001b[0m\u001b[0;34m)\u001b[0m\u001b[0;34m\u001b[0m\u001b[0;34m\u001b[0m\u001b[0m\n\u001b[0m\u001b[1;32m     18\u001b[0m   \u001b[0mdata\u001b[0m \u001b[0;34m=\u001b[0m \u001b[0mresp\u001b[0m\u001b[0;34m.\u001b[0m\u001b[0mjson\u001b[0m\u001b[0;34m(\u001b[0m\u001b[0;34m)\u001b[0m\u001b[0;34m\u001b[0m\u001b[0;34m\u001b[0m\u001b[0m\n\u001b[1;32m     19\u001b[0m \u001b[0;34m\u001b[0m\u001b[0m\n",
            "\u001b[0;32m/usr/local/lib/python3.11/dist-packages/requests/api.py\u001b[0m in \u001b[0;36mget\u001b[0;34m(url, params, **kwargs)\u001b[0m\n\u001b[1;32m     71\u001b[0m     \"\"\"\n\u001b[1;32m     72\u001b[0m \u001b[0;34m\u001b[0m\u001b[0m\n\u001b[0;32m---> 73\u001b[0;31m     \u001b[0;32mreturn\u001b[0m \u001b[0mrequest\u001b[0m\u001b[0;34m(\u001b[0m\u001b[0;34m\"get\"\u001b[0m\u001b[0;34m,\u001b[0m \u001b[0murl\u001b[0m\u001b[0;34m,\u001b[0m \u001b[0mparams\u001b[0m\u001b[0;34m=\u001b[0m\u001b[0mparams\u001b[0m\u001b[0;34m,\u001b[0m \u001b[0;34m**\u001b[0m\u001b[0mkwargs\u001b[0m\u001b[0;34m)\u001b[0m\u001b[0;34m\u001b[0m\u001b[0;34m\u001b[0m\u001b[0m\n\u001b[0m\u001b[1;32m     74\u001b[0m \u001b[0;34m\u001b[0m\u001b[0m\n\u001b[1;32m     75\u001b[0m \u001b[0;34m\u001b[0m\u001b[0m\n",
            "\u001b[0;32m/usr/local/lib/python3.11/dist-packages/requests/api.py\u001b[0m in \u001b[0;36mrequest\u001b[0;34m(method, url, **kwargs)\u001b[0m\n\u001b[1;32m     57\u001b[0m     \u001b[0;31m# cases, and look like a memory leak in others.\u001b[0m\u001b[0;34m\u001b[0m\u001b[0;34m\u001b[0m\u001b[0m\n\u001b[1;32m     58\u001b[0m     \u001b[0;32mwith\u001b[0m \u001b[0msessions\u001b[0m\u001b[0;34m.\u001b[0m\u001b[0mSession\u001b[0m\u001b[0;34m(\u001b[0m\u001b[0;34m)\u001b[0m \u001b[0;32mas\u001b[0m \u001b[0msession\u001b[0m\u001b[0;34m:\u001b[0m\u001b[0;34m\u001b[0m\u001b[0;34m\u001b[0m\u001b[0m\n\u001b[0;32m---> 59\u001b[0;31m         \u001b[0;32mreturn\u001b[0m \u001b[0msession\u001b[0m\u001b[0;34m.\u001b[0m\u001b[0mrequest\u001b[0m\u001b[0;34m(\u001b[0m\u001b[0mmethod\u001b[0m\u001b[0;34m=\u001b[0m\u001b[0mmethod\u001b[0m\u001b[0;34m,\u001b[0m \u001b[0murl\u001b[0m\u001b[0;34m=\u001b[0m\u001b[0murl\u001b[0m\u001b[0;34m,\u001b[0m \u001b[0;34m**\u001b[0m\u001b[0mkwargs\u001b[0m\u001b[0;34m)\u001b[0m\u001b[0;34m\u001b[0m\u001b[0;34m\u001b[0m\u001b[0m\n\u001b[0m\u001b[1;32m     60\u001b[0m \u001b[0;34m\u001b[0m\u001b[0m\n\u001b[1;32m     61\u001b[0m \u001b[0;34m\u001b[0m\u001b[0m\n",
            "\u001b[0;32m/usr/local/lib/python3.11/dist-packages/requests/sessions.py\u001b[0m in \u001b[0;36mrequest\u001b[0;34m(self, method, url, params, data, headers, cookies, files, auth, timeout, allow_redirects, proxies, hooks, stream, verify, cert, json)\u001b[0m\n\u001b[1;32m    587\u001b[0m         }\n\u001b[1;32m    588\u001b[0m         \u001b[0msend_kwargs\u001b[0m\u001b[0;34m.\u001b[0m\u001b[0mupdate\u001b[0m\u001b[0;34m(\u001b[0m\u001b[0msettings\u001b[0m\u001b[0;34m)\u001b[0m\u001b[0;34m\u001b[0m\u001b[0;34m\u001b[0m\u001b[0m\n\u001b[0;32m--> 589\u001b[0;31m         \u001b[0mresp\u001b[0m \u001b[0;34m=\u001b[0m \u001b[0mself\u001b[0m\u001b[0;34m.\u001b[0m\u001b[0msend\u001b[0m\u001b[0;34m(\u001b[0m\u001b[0mprep\u001b[0m\u001b[0;34m,\u001b[0m \u001b[0;34m**\u001b[0m\u001b[0msend_kwargs\u001b[0m\u001b[0;34m)\u001b[0m\u001b[0;34m\u001b[0m\u001b[0;34m\u001b[0m\u001b[0m\n\u001b[0m\u001b[1;32m    590\u001b[0m \u001b[0;34m\u001b[0m\u001b[0m\n\u001b[1;32m    591\u001b[0m         \u001b[0;32mreturn\u001b[0m \u001b[0mresp\u001b[0m\u001b[0;34m\u001b[0m\u001b[0;34m\u001b[0m\u001b[0m\n",
            "\u001b[0;32m/usr/local/lib/python3.11/dist-packages/requests/sessions.py\u001b[0m in \u001b[0;36msend\u001b[0;34m(self, request, **kwargs)\u001b[0m\n\u001b[1;32m    701\u001b[0m \u001b[0;34m\u001b[0m\u001b[0m\n\u001b[1;32m    702\u001b[0m         \u001b[0;31m# Send the request\u001b[0m\u001b[0;34m\u001b[0m\u001b[0;34m\u001b[0m\u001b[0m\n\u001b[0;32m--> 703\u001b[0;31m         \u001b[0mr\u001b[0m \u001b[0;34m=\u001b[0m \u001b[0madapter\u001b[0m\u001b[0;34m.\u001b[0m\u001b[0msend\u001b[0m\u001b[0;34m(\u001b[0m\u001b[0mrequest\u001b[0m\u001b[0;34m,\u001b[0m \u001b[0;34m**\u001b[0m\u001b[0mkwargs\u001b[0m\u001b[0;34m)\u001b[0m\u001b[0;34m\u001b[0m\u001b[0;34m\u001b[0m\u001b[0m\n\u001b[0m\u001b[1;32m    704\u001b[0m \u001b[0;34m\u001b[0m\u001b[0m\n\u001b[1;32m    705\u001b[0m         \u001b[0;31m# Total elapsed time of the request (approximately)\u001b[0m\u001b[0;34m\u001b[0m\u001b[0;34m\u001b[0m\u001b[0m\n",
            "\u001b[0;32m/usr/local/lib/python3.11/dist-packages/requests/adapters.py\u001b[0m in \u001b[0;36msend\u001b[0;34m(self, request, stream, timeout, verify, cert, proxies)\u001b[0m\n\u001b[1;32m    665\u001b[0m \u001b[0;34m\u001b[0m\u001b[0m\n\u001b[1;32m    666\u001b[0m         \u001b[0;32mtry\u001b[0m\u001b[0;34m:\u001b[0m\u001b[0;34m\u001b[0m\u001b[0;34m\u001b[0m\u001b[0m\n\u001b[0;32m--> 667\u001b[0;31m             resp = conn.urlopen(\n\u001b[0m\u001b[1;32m    668\u001b[0m                 \u001b[0mmethod\u001b[0m\u001b[0;34m=\u001b[0m\u001b[0mrequest\u001b[0m\u001b[0;34m.\u001b[0m\u001b[0mmethod\u001b[0m\u001b[0;34m,\u001b[0m\u001b[0;34m\u001b[0m\u001b[0;34m\u001b[0m\u001b[0m\n\u001b[1;32m    669\u001b[0m                 \u001b[0murl\u001b[0m\u001b[0;34m=\u001b[0m\u001b[0murl\u001b[0m\u001b[0;34m,\u001b[0m\u001b[0;34m\u001b[0m\u001b[0;34m\u001b[0m\u001b[0m\n",
            "\u001b[0;32m/usr/local/lib/python3.11/dist-packages/urllib3/connectionpool.py\u001b[0m in \u001b[0;36murlopen\u001b[0;34m(self, method, url, body, headers, retries, redirect, assert_same_host, timeout, pool_timeout, release_conn, chunked, body_pos, preload_content, decode_content, **response_kw)\u001b[0m\n\u001b[1;32m    785\u001b[0m \u001b[0;34m\u001b[0m\u001b[0m\n\u001b[1;32m    786\u001b[0m             \u001b[0;31m# Make the request on the HTTPConnection object\u001b[0m\u001b[0;34m\u001b[0m\u001b[0;34m\u001b[0m\u001b[0m\n\u001b[0;32m--> 787\u001b[0;31m             response = self._make_request(\n\u001b[0m\u001b[1;32m    788\u001b[0m                 \u001b[0mconn\u001b[0m\u001b[0;34m,\u001b[0m\u001b[0;34m\u001b[0m\u001b[0;34m\u001b[0m\u001b[0m\n\u001b[1;32m    789\u001b[0m                 \u001b[0mmethod\u001b[0m\u001b[0;34m,\u001b[0m\u001b[0;34m\u001b[0m\u001b[0;34m\u001b[0m\u001b[0m\n",
            "\u001b[0;32m/usr/local/lib/python3.11/dist-packages/urllib3/connectionpool.py\u001b[0m in \u001b[0;36m_make_request\u001b[0;34m(self, conn, method, url, body, headers, retries, timeout, chunked, response_conn, preload_content, decode_content, enforce_content_length)\u001b[0m\n\u001b[1;32m    532\u001b[0m         \u001b[0;31m# Receive the response from the server\u001b[0m\u001b[0;34m\u001b[0m\u001b[0;34m\u001b[0m\u001b[0m\n\u001b[1;32m    533\u001b[0m         \u001b[0;32mtry\u001b[0m\u001b[0;34m:\u001b[0m\u001b[0;34m\u001b[0m\u001b[0;34m\u001b[0m\u001b[0m\n\u001b[0;32m--> 534\u001b[0;31m             \u001b[0mresponse\u001b[0m \u001b[0;34m=\u001b[0m \u001b[0mconn\u001b[0m\u001b[0;34m.\u001b[0m\u001b[0mgetresponse\u001b[0m\u001b[0;34m(\u001b[0m\u001b[0;34m)\u001b[0m\u001b[0;34m\u001b[0m\u001b[0;34m\u001b[0m\u001b[0m\n\u001b[0m\u001b[1;32m    535\u001b[0m         \u001b[0;32mexcept\u001b[0m \u001b[0;34m(\u001b[0m\u001b[0mBaseSSLError\u001b[0m\u001b[0;34m,\u001b[0m \u001b[0mOSError\u001b[0m\u001b[0;34m)\u001b[0m \u001b[0;32mas\u001b[0m \u001b[0me\u001b[0m\u001b[0;34m:\u001b[0m\u001b[0;34m\u001b[0m\u001b[0;34m\u001b[0m\u001b[0m\n\u001b[1;32m    536\u001b[0m             \u001b[0mself\u001b[0m\u001b[0;34m.\u001b[0m\u001b[0m_raise_timeout\u001b[0m\u001b[0;34m(\u001b[0m\u001b[0merr\u001b[0m\u001b[0;34m=\u001b[0m\u001b[0me\u001b[0m\u001b[0;34m,\u001b[0m \u001b[0murl\u001b[0m\u001b[0;34m=\u001b[0m\u001b[0murl\u001b[0m\u001b[0;34m,\u001b[0m \u001b[0mtimeout_value\u001b[0m\u001b[0;34m=\u001b[0m\u001b[0mread_timeout\u001b[0m\u001b[0;34m)\u001b[0m\u001b[0;34m\u001b[0m\u001b[0;34m\u001b[0m\u001b[0m\n",
            "\u001b[0;32m/usr/local/lib/python3.11/dist-packages/urllib3/connection.py\u001b[0m in \u001b[0;36mgetresponse\u001b[0;34m(self)\u001b[0m\n\u001b[1;32m    514\u001b[0m \u001b[0;34m\u001b[0m\u001b[0m\n\u001b[1;32m    515\u001b[0m         \u001b[0;31m# Get the response from http.client.HTTPConnection\u001b[0m\u001b[0;34m\u001b[0m\u001b[0;34m\u001b[0m\u001b[0m\n\u001b[0;32m--> 516\u001b[0;31m         \u001b[0mhttplib_response\u001b[0m \u001b[0;34m=\u001b[0m \u001b[0msuper\u001b[0m\u001b[0;34m(\u001b[0m\u001b[0;34m)\u001b[0m\u001b[0;34m.\u001b[0m\u001b[0mgetresponse\u001b[0m\u001b[0;34m(\u001b[0m\u001b[0;34m)\u001b[0m\u001b[0;34m\u001b[0m\u001b[0;34m\u001b[0m\u001b[0m\n\u001b[0m\u001b[1;32m    517\u001b[0m \u001b[0;34m\u001b[0m\u001b[0m\n\u001b[1;32m    518\u001b[0m         \u001b[0;32mtry\u001b[0m\u001b[0;34m:\u001b[0m\u001b[0;34m\u001b[0m\u001b[0;34m\u001b[0m\u001b[0m\n",
            "\u001b[0;32m/usr/lib/python3.11/http/client.py\u001b[0m in \u001b[0;36mgetresponse\u001b[0;34m(self)\u001b[0m\n\u001b[1;32m   1393\u001b[0m         \u001b[0;32mtry\u001b[0m\u001b[0;34m:\u001b[0m\u001b[0;34m\u001b[0m\u001b[0;34m\u001b[0m\u001b[0m\n\u001b[1;32m   1394\u001b[0m             \u001b[0;32mtry\u001b[0m\u001b[0;34m:\u001b[0m\u001b[0;34m\u001b[0m\u001b[0;34m\u001b[0m\u001b[0m\n\u001b[0;32m-> 1395\u001b[0;31m                 \u001b[0mresponse\u001b[0m\u001b[0;34m.\u001b[0m\u001b[0mbegin\u001b[0m\u001b[0;34m(\u001b[0m\u001b[0;34m)\u001b[0m\u001b[0;34m\u001b[0m\u001b[0;34m\u001b[0m\u001b[0m\n\u001b[0m\u001b[1;32m   1396\u001b[0m             \u001b[0;32mexcept\u001b[0m \u001b[0mConnectionError\u001b[0m\u001b[0;34m:\u001b[0m\u001b[0;34m\u001b[0m\u001b[0;34m\u001b[0m\u001b[0m\n\u001b[1;32m   1397\u001b[0m                 \u001b[0mself\u001b[0m\u001b[0;34m.\u001b[0m\u001b[0mclose\u001b[0m\u001b[0;34m(\u001b[0m\u001b[0;34m)\u001b[0m\u001b[0;34m\u001b[0m\u001b[0;34m\u001b[0m\u001b[0m\n",
            "\u001b[0;32m/usr/lib/python3.11/http/client.py\u001b[0m in \u001b[0;36mbegin\u001b[0;34m(self)\u001b[0m\n\u001b[1;32m    323\u001b[0m         \u001b[0;31m# read until we get a non-100 response\u001b[0m\u001b[0;34m\u001b[0m\u001b[0;34m\u001b[0m\u001b[0m\n\u001b[1;32m    324\u001b[0m         \u001b[0;32mwhile\u001b[0m \u001b[0;32mTrue\u001b[0m\u001b[0;34m:\u001b[0m\u001b[0;34m\u001b[0m\u001b[0;34m\u001b[0m\u001b[0m\n\u001b[0;32m--> 325\u001b[0;31m             \u001b[0mversion\u001b[0m\u001b[0;34m,\u001b[0m \u001b[0mstatus\u001b[0m\u001b[0;34m,\u001b[0m \u001b[0mreason\u001b[0m \u001b[0;34m=\u001b[0m \u001b[0mself\u001b[0m\u001b[0;34m.\u001b[0m\u001b[0m_read_status\u001b[0m\u001b[0;34m(\u001b[0m\u001b[0;34m)\u001b[0m\u001b[0;34m\u001b[0m\u001b[0;34m\u001b[0m\u001b[0m\n\u001b[0m\u001b[1;32m    326\u001b[0m             \u001b[0;32mif\u001b[0m \u001b[0mstatus\u001b[0m \u001b[0;34m!=\u001b[0m \u001b[0mCONTINUE\u001b[0m\u001b[0;34m:\u001b[0m\u001b[0;34m\u001b[0m\u001b[0;34m\u001b[0m\u001b[0m\n\u001b[1;32m    327\u001b[0m                 \u001b[0;32mbreak\u001b[0m\u001b[0;34m\u001b[0m\u001b[0;34m\u001b[0m\u001b[0m\n",
            "\u001b[0;32m/usr/lib/python3.11/http/client.py\u001b[0m in \u001b[0;36m_read_status\u001b[0;34m(self)\u001b[0m\n\u001b[1;32m    284\u001b[0m \u001b[0;34m\u001b[0m\u001b[0m\n\u001b[1;32m    285\u001b[0m     \u001b[0;32mdef\u001b[0m \u001b[0m_read_status\u001b[0m\u001b[0;34m(\u001b[0m\u001b[0mself\u001b[0m\u001b[0;34m)\u001b[0m\u001b[0;34m:\u001b[0m\u001b[0;34m\u001b[0m\u001b[0;34m\u001b[0m\u001b[0m\n\u001b[0;32m--> 286\u001b[0;31m         \u001b[0mline\u001b[0m \u001b[0;34m=\u001b[0m \u001b[0mstr\u001b[0m\u001b[0;34m(\u001b[0m\u001b[0mself\u001b[0m\u001b[0;34m.\u001b[0m\u001b[0mfp\u001b[0m\u001b[0;34m.\u001b[0m\u001b[0mreadline\u001b[0m\u001b[0;34m(\u001b[0m\u001b[0m_MAXLINE\u001b[0m \u001b[0;34m+\u001b[0m \u001b[0;36m1\u001b[0m\u001b[0;34m)\u001b[0m\u001b[0;34m,\u001b[0m \u001b[0;34m\"iso-8859-1\"\u001b[0m\u001b[0;34m)\u001b[0m\u001b[0;34m\u001b[0m\u001b[0;34m\u001b[0m\u001b[0m\n\u001b[0m\u001b[1;32m    287\u001b[0m         \u001b[0;32mif\u001b[0m \u001b[0mlen\u001b[0m\u001b[0;34m(\u001b[0m\u001b[0mline\u001b[0m\u001b[0;34m)\u001b[0m \u001b[0;34m>\u001b[0m \u001b[0m_MAXLINE\u001b[0m\u001b[0;34m:\u001b[0m\u001b[0;34m\u001b[0m\u001b[0;34m\u001b[0m\u001b[0m\n\u001b[1;32m    288\u001b[0m             \u001b[0;32mraise\u001b[0m \u001b[0mLineTooLong\u001b[0m\u001b[0;34m(\u001b[0m\u001b[0;34m\"status line\"\u001b[0m\u001b[0;34m)\u001b[0m\u001b[0;34m\u001b[0m\u001b[0;34m\u001b[0m\u001b[0m\n",
            "\u001b[0;32m/usr/lib/python3.11/socket.py\u001b[0m in \u001b[0;36mreadinto\u001b[0;34m(self, b)\u001b[0m\n\u001b[1;32m    716\u001b[0m         \u001b[0;32mwhile\u001b[0m \u001b[0;32mTrue\u001b[0m\u001b[0;34m:\u001b[0m\u001b[0;34m\u001b[0m\u001b[0;34m\u001b[0m\u001b[0m\n\u001b[1;32m    717\u001b[0m             \u001b[0;32mtry\u001b[0m\u001b[0;34m:\u001b[0m\u001b[0;34m\u001b[0m\u001b[0;34m\u001b[0m\u001b[0m\n\u001b[0;32m--> 718\u001b[0;31m                 \u001b[0;32mreturn\u001b[0m \u001b[0mself\u001b[0m\u001b[0;34m.\u001b[0m\u001b[0m_sock\u001b[0m\u001b[0;34m.\u001b[0m\u001b[0mrecv_into\u001b[0m\u001b[0;34m(\u001b[0m\u001b[0mb\u001b[0m\u001b[0;34m)\u001b[0m\u001b[0;34m\u001b[0m\u001b[0;34m\u001b[0m\u001b[0m\n\u001b[0m\u001b[1;32m    719\u001b[0m             \u001b[0;32mexcept\u001b[0m \u001b[0mtimeout\u001b[0m\u001b[0;34m:\u001b[0m\u001b[0;34m\u001b[0m\u001b[0;34m\u001b[0m\u001b[0m\n\u001b[1;32m    720\u001b[0m                 \u001b[0mself\u001b[0m\u001b[0;34m.\u001b[0m\u001b[0m_timeout_occurred\u001b[0m \u001b[0;34m=\u001b[0m \u001b[0;32mTrue\u001b[0m\u001b[0;34m\u001b[0m\u001b[0;34m\u001b[0m\u001b[0m\n",
            "\u001b[0;32m/usr/lib/python3.11/ssl.py\u001b[0m in \u001b[0;36mrecv_into\u001b[0;34m(self, buffer, nbytes, flags)\u001b[0m\n\u001b[1;32m   1312\u001b[0m                   \u001b[0;34m\"non-zero flags not allowed in calls to recv_into() on %s\"\u001b[0m \u001b[0;34m%\u001b[0m\u001b[0;34m\u001b[0m\u001b[0;34m\u001b[0m\u001b[0m\n\u001b[1;32m   1313\u001b[0m                   self.__class__)\n\u001b[0;32m-> 1314\u001b[0;31m             \u001b[0;32mreturn\u001b[0m \u001b[0mself\u001b[0m\u001b[0;34m.\u001b[0m\u001b[0mread\u001b[0m\u001b[0;34m(\u001b[0m\u001b[0mnbytes\u001b[0m\u001b[0;34m,\u001b[0m \u001b[0mbuffer\u001b[0m\u001b[0;34m)\u001b[0m\u001b[0;34m\u001b[0m\u001b[0;34m\u001b[0m\u001b[0m\n\u001b[0m\u001b[1;32m   1315\u001b[0m         \u001b[0;32melse\u001b[0m\u001b[0;34m:\u001b[0m\u001b[0;34m\u001b[0m\u001b[0;34m\u001b[0m\u001b[0m\n\u001b[1;32m   1316\u001b[0m             \u001b[0;32mreturn\u001b[0m \u001b[0msuper\u001b[0m\u001b[0;34m(\u001b[0m\u001b[0;34m)\u001b[0m\u001b[0;34m.\u001b[0m\u001b[0mrecv_into\u001b[0m\u001b[0;34m(\u001b[0m\u001b[0mbuffer\u001b[0m\u001b[0;34m,\u001b[0m \u001b[0mnbytes\u001b[0m\u001b[0;34m,\u001b[0m \u001b[0mflags\u001b[0m\u001b[0;34m)\u001b[0m\u001b[0;34m\u001b[0m\u001b[0;34m\u001b[0m\u001b[0m\n",
            "\u001b[0;32m/usr/lib/python3.11/ssl.py\u001b[0m in \u001b[0;36mread\u001b[0;34m(self, len, buffer)\u001b[0m\n\u001b[1;32m   1164\u001b[0m         \u001b[0;32mtry\u001b[0m\u001b[0;34m:\u001b[0m\u001b[0;34m\u001b[0m\u001b[0;34m\u001b[0m\u001b[0m\n\u001b[1;32m   1165\u001b[0m             \u001b[0;32mif\u001b[0m \u001b[0mbuffer\u001b[0m \u001b[0;32mis\u001b[0m \u001b[0;32mnot\u001b[0m \u001b[0;32mNone\u001b[0m\u001b[0;34m:\u001b[0m\u001b[0;34m\u001b[0m\u001b[0;34m\u001b[0m\u001b[0m\n\u001b[0;32m-> 1166\u001b[0;31m                 \u001b[0;32mreturn\u001b[0m \u001b[0mself\u001b[0m\u001b[0;34m.\u001b[0m\u001b[0m_sslobj\u001b[0m\u001b[0;34m.\u001b[0m\u001b[0mread\u001b[0m\u001b[0;34m(\u001b[0m\u001b[0mlen\u001b[0m\u001b[0;34m,\u001b[0m \u001b[0mbuffer\u001b[0m\u001b[0;34m)\u001b[0m\u001b[0;34m\u001b[0m\u001b[0;34m\u001b[0m\u001b[0m\n\u001b[0m\u001b[1;32m   1167\u001b[0m             \u001b[0;32melse\u001b[0m\u001b[0;34m:\u001b[0m\u001b[0;34m\u001b[0m\u001b[0;34m\u001b[0m\u001b[0m\n\u001b[1;32m   1168\u001b[0m                 \u001b[0;32mreturn\u001b[0m \u001b[0mself\u001b[0m\u001b[0;34m.\u001b[0m\u001b[0m_sslobj\u001b[0m\u001b[0;34m.\u001b[0m\u001b[0mread\u001b[0m\u001b[0;34m(\u001b[0m\u001b[0mlen\u001b[0m\u001b[0;34m)\u001b[0m\u001b[0;34m\u001b[0m\u001b[0;34m\u001b[0m\u001b[0m\n",
            "\u001b[0;31mKeyboardInterrupt\u001b[0m: "
          ]
        }
      ]
    }
  ]
}